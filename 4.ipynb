{
 "cells": [
  {
   "cell_type": "code",
   "execution_count": 10,
   "metadata": {},
   "outputs": [
    {
     "name": "stdout",
     "output_type": "stream",
     "text": [
      "False\n",
      "True\n",
      "False\n"
     ]
    }
   ],
   "source": [
    "#soal 1\n",
    "def cek_angka (a,b,c):\n",
    "    if a == b == c: return False\n",
    "    if a + b == c or a + c == b or b + c == a:\n",
    "            return True\n",
    "    return False\n",
    "\n",
    "print(cek_angka(2,2,2))\n",
    "print(cek_angka(1,2,3))\n",
    "print(cek_angka(1,2,4))"
   ]
  },
  {
   "cell_type": "code",
   "execution_count": 32,
   "metadata": {},
   "outputs": [
    {
     "name": "stdout",
     "output_type": "stream",
     "text": [
      "True\n",
      "True\n",
      "False\n",
      "False\n"
     ]
    }
   ],
   "source": [
    "#soal 2\n",
    "def cek_digit_belakang(a,b,c):\n",
    "    if a % 10 == b % 10  or a % 10 == c % 10:\n",
    "        return True\n",
    "    else:\n",
    "        return False\n",
    "\n",
    "print(cek_digit_belakang(30,20,18)) #true\n",
    "print(cek_digit_belakang(145,5,100)) #true\n",
    "print(cek_digit_belakang(71,187,18)) #false\n",
    "print(cek_digit_belakang(53,8900,658)) #false\n"
   ]
  },
  {
   "cell_type": "code",
   "execution_count": 37,
   "metadata": {},
   "outputs": [
    {
     "name": "stdout",
     "output_type": "stream",
     "text": [
      "Input C = 100 Output F = 212.0\n",
      "Input C = 100 Output R = 80.0\n"
     ]
    }
   ],
   "source": [
    "#soal 3\n",
    "fahrenheit = lambda c :(9/5) * c + 32\n",
    "reamur  = lambda c : 0.8 * c\n",
    "\n",
    "celcius = int(input(\"Input C =\"))\n",
    "\n",
    "print(f\"Input C = {celcius} Output F = {fahrenheit(celcius)}\")\n",
    "print(f\"Input C = {celcius} Output R = {reamur(celcius)}\")"
   ]
  }
 ],
 "metadata": {
  "kernelspec": {
   "display_name": "Python 3",
   "language": "python",
   "name": "python3"
  },
  "language_info": {
   "codemirror_mode": {
    "name": "ipython",
    "version": 3
   },
   "file_extension": ".py",
   "mimetype": "text/x-python",
   "name": "python",
   "nbconvert_exporter": "python",
   "pygments_lexer": "ipython3",
   "version": "3.12.1"
  }
 },
 "nbformat": 4,
 "nbformat_minor": 2
}
